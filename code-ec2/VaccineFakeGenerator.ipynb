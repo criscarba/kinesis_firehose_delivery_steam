{
 "cells": [
  {
   "cell_type": "code",
   "execution_count": 9,
   "metadata": {},
   "outputs": [],
   "source": [
    "import csv\n",
    "import time\n",
    "import sys"
   ]
  },
  {
   "cell_type": "code",
   "execution_count": 10,
   "metadata": {},
   "outputs": [],
   "source": [
    "sourceData = \"Vaccine.csv\"\n",
    "placeholder = \"LastLine.txt\""
   ]
  },
  {
   "cell_type": "code",
   "execution_count": 11,
   "metadata": {},
   "outputs": [],
   "source": [
    "def GetLineCount():\n",
    "    with open(sourceData) as f:\n",
    "        for i, l in enumerate(f):\n",
    "            pass\n",
    "    return i"
   ]
  },
  {
   "cell_type": "code",
   "execution_count": 12,
   "metadata": {},
   "outputs": [],
   "source": [
    "def MakeLog(startLine, numLines):\n",
    "    #destData = time.strftime(\"/var/log/cadabra/%Y%m%d-%H%M%S.log\")\n",
    "    destData = time.strftime(\"%Y%m%d-%H%M%S.log\")\n",
    "    with open(sourceData, 'r') as csvfile:\n",
    "        with open(destData, 'w') as dstfile:\n",
    "            reader = csv.reader(csvfile)\n",
    "            writer = csv.writer(dstfile)\n",
    "            next (reader) #skip header\n",
    "            inputRow = 0\n",
    "            linesWritten = 0\n",
    "            for row in reader:\n",
    "                inputRow += 1\n",
    "                if (inputRow > startLine):\n",
    "                    writer.writerow(row)\n",
    "                    linesWritten += 1\n",
    "                    if (linesWritten >= numLines):\n",
    "                        break\n",
    "            return linesWritten"
   ]
  },
  {
   "cell_type": "code",
   "execution_count": 13,
   "metadata": {},
   "outputs": [
    {
     "name": "stdout",
     "output_type": "stream",
     "text": [
      "Writing 10 lines starting at line 0\n",
      "\n",
      "Wrote 10 lines.\n",
      "\n"
     ]
    }
   ],
   "source": [
    "numLines = 10\n",
    "startLine = 0            \n",
    "# if (len(sys.argv) > 1):\n",
    "#     numLines = int(sys.argv[1])\n",
    "    \n",
    "try:\n",
    "    with open(placeholder, 'r') as f:\n",
    "        for line in f:\n",
    "             startLine = int(line)\n",
    "except IOError:\n",
    "    startLine = 0\n",
    "\n",
    "print(\"Writing \" + str(numLines) + \" lines starting at line \" + str(startLine) + \"\\n\")\n",
    "\n",
    "totalLinesWritten = 0\n",
    "linesInFile = GetLineCount()\n",
    "\n",
    "while (totalLinesWritten < numLines):\n",
    "    linesWritten = MakeLog(startLine, numLines - totalLinesWritten)\n",
    "    totalLinesWritten += linesWritten\n",
    "    startLine += linesWritten\n",
    "    if (startLine >= linesInFile):\n",
    "        startLine = 0\n",
    "        \n",
    "print(\"Wrote \" + str(totalLinesWritten) + \" lines.\\n\")\n",
    "    \n",
    "with open(placeholder, 'w') as f:\n",
    "    f.write(str(startLine))"
   ]
  },
  {
   "cell_type": "code",
   "execution_count": null,
   "metadata": {},
   "outputs": [],
   "source": []
  }
 ],
 "metadata": {
  "kernelspec": {
   "display_name": "Python 3",
   "language": "python",
   "name": "python3"
  },
  "language_info": {
   "codemirror_mode": {
    "name": "ipython",
    "version": 3
   },
   "file_extension": ".py",
   "mimetype": "text/x-python",
   "name": "python",
   "nbconvert_exporter": "python",
   "pygments_lexer": "ipython3",
   "version": "3.7.9"
  }
 },
 "nbformat": 4,
 "nbformat_minor": 4
}
